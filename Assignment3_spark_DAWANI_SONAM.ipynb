{
 "cells": [
  {
   "cell_type": "code",
   "execution_count": null,
   "metadata": {},
   "outputs": [],
   "source": [
    "from pyspark.sql import SparkSession\n",
    "from pyspark.sql import Row\n",
    "from pyspark.sql import HiveContext\n",
    "import pandas as pd\n",
    "import os\n",
    "import sqlite3\n",
    "import time\n",
    "\n",
    "\n",
    "spark = SparkSession.builder \\\n",
    "    .master(\"local[*]\") \\\n",
    "    .appName(\"Learning_Spark\") \\\n",
    "    .getOrCreate()\n",
    "\n",
    "sc = spark.sparkContext\n",
    "sqlContext = HiveContext(sc)\n",
    "\n",
    "con = sqlite3.connect('database.sqlite')\n",
    "\n",
    "pddf_Player=pd.read_sql_query(\"SELECT * from Player\",con)\n",
    "schemapddf_Player = sqlContext.createDataFrame(pddf_Player)\n",
    "sqlContext.registerDataFrameAsTable(schemapddf_Player, \"Player\")\n",
    "\n",
    "pddf_Country=pd.read_sql_query(\"SELECT * from Country\",con)\n",
    "schemapddf_Country = sqlContext.createDataFrame(pddf_Country)\n",
    "sqlContext.registerDataFrameAsTable(schemapddf_Country, \"Country\")\n",
    "\n",
    "pddf_League=pd.read_sql_query(\"SELECT * from League\",con)\n",
    "schemapddf_League = sqlContext.createDataFrame(pddf_League)\n",
    "sqlContext.registerDataFrameAsTable(schemapddf_League, \"League\")\n",
    "\n",
    "pddf_Match=pd.read_sql_query(\"SELECT * from Match\",con)\n",
    "schemapddf_Match = sqlContext.createDataFrame(pddf_Match)\n",
    "sqlContext.registerDataFrameAsTable(schemapddf_Match, \"Match\")\n",
    "\n",
    "pddf_Player_Attributes=pd.read_sql_query(\"SELECT * from Player_Attributes\",con)\n",
    "schemapddf_Player_Attributes = sqlContext.createDataFrame(pddf_Player_Attributes)\n",
    "sqlContext.registerDataFrameAsTable(schemapddf_Player_Attributes, \"Player_Attributes\")\n",
    "\n",
    "pddf_Team=pd.read_sql_query(\"SELECT * from Team\",con)\n",
    "schemapddf_Team = sqlContext.createDataFrame(pddf_Team)\n",
    "sqlContext.registerDataFrameAsTable(schemapddf_Team, \"Team\")\n",
    "\n",
    "pddf_Team_Attributes=pd.read_sql_query(\"SELECT * from Team_Attributes\",con)\n",
    "schemapddf_Team_Attributes = sqlContext.createDataFrame(pddf_Team_Attributes)\n",
    "sqlContext.registerDataFrameAsTable(schemapddf_Team_Attributes, \"Team_Attributes\")\n",
    "\n",
    "start = time.time()\n",
    "\n",
    "#q1\n",
    "sqlContext.sql(\"Select player_name as Player_Name,birthday as Birthday from Player where birthday BETWEEN '1987-01-01 00:00:00' AND '1990-12-30 00:00:00' order by birthday\").show()\n",
    "start = time.time()\n",
    "\n",
    "end = time.time()\n",
    "print(end - start)"
   ]
  },
  {
   "cell_type": "code",
   "execution_count": null,
   "metadata": {},
   "outputs": [],
   "source": [
    "#q2\n",
    "start = time.time()\n",
    "sqlContext.sql(\"SELECT C.name as Country,L.name as League_Name, SUM(M.home_team_goal+M.away_team_goal) as Total_Goals_Scored FROM Country C JOIN League L ON L.country_id=C.id JOIN Match M ON M.league_id=L.id group by C.name,L.name \\\n",
    "order by Total_Goals_Scored desc\").show()\n",
    "end = time.time()\n",
    "print(end - start)"
   ]
  },
  {
   "cell_type": "code",
   "execution_count": null,
   "metadata": {},
   "outputs": [],
   "source": [
    "#q3\n",
    "start = time.time()\n",
    "sqlContext.sql(\"SELECT T.team_long_name as Team_Long_Name, (avg(TA.buildUpPlaySpeed)+ ifnull(avg(TA.buildUpPlayDribbling),0) +avg(TA.buildUpPlayPassing)+ avg(TA.chanceCreationPassing)+ avg(TA.chanceCreationCrossing)+ \\\n",
    "avg(TA.chanceCreationShooting)+ avg(TA.defencePressure)+ avg(TA.defenceAggression)+ avg(TA.defenceTeamWidth))/9 as Average_of_Attributes from Team_Attributes TA JOIN Team T ON TA.team_api_id=T.team_api_id group by T.team_api_id \\\n",
    "order by Average_of_Attributes desc\").show()\n",
    "end = time.time()\n",
    "print(end - start)"
   ]
  },
  {
   "cell_type": "code",
   "execution_count": null,
   "metadata": {},
   "outputs": [],
   "source": [
    "#q4\n",
    "start = time.time()\n",
    "sqlContext.sql(\"SELECT T.team_long_name as Team_Name, null as  Number_of_Players, (avg(TA.buildUpPlaySpeed)+ avg(TA.buildUpPlayDribbling) +avg(TA.buildUpPlayPassing)+ avg(TA.chanceCreationPassing)+ \\\n",
    "avg(TA.chanceCreationCrossing)+ avg(TA.chanceCreationShooting)+ avg(TA.defencePressure)+ avg(TA.defenceAggression)+ avg(TA.defenceTeamWidth))/9 as Player_Attribute_Average from \\\n",
    "Team_Attributes TA JOIN Team T ON TA.team_api_id=T.team_api_id group by T.team_api_id order by Player_Attribute_Average desc\").show()\n",
    "end = time.time()\n",
    "print(end - start)"
   ]
  },
  {
   "cell_type": "code",
   "execution_count": null,
   "metadata": {},
   "outputs": [],
   "source": [
    "#q5\n",
    "start = time.time()\n",
    "sqlContext.sql(\"SELECT strftime('%d/%m/%Y',IQ.date) as [Date (dd/mm/yy)],IQ.season as Season,L.name as League_Name,max(goal) as Goals_scored from (SELECT date,season,league_id,sum(home_team_goal+away_team_goal) \\\n",
    "as goal from Match group by season,league_id,date order by season,league_id,date,goal) IQ JOIN League L ON L.id=IQ.league_id group by IQ.season,IQ.league_id\").show()\n",
    "end = time.time()\n",
    "print(end - start)"
   ]
  },
  {
   "cell_type": "code",
   "execution_count": null,
   "metadata": {},
   "outputs": [],
   "source": [
    "#q6\n",
    "start = time.time()\n",
    "sqlContext.sql(\"select * from (select Season, League, row_number() OVER(Partition BY League ORDER BY SUM(Goals_Scored) DESC) as [RANK] , Team_Name, sum(Goals_Scored) as Goals_Scored from \\\n",
    "(SELECT M.season as Season,L.name as League,T.team_long_name as Team_Name,sum(M.home_team_goal) as Goals_Scored from \\\n",
    "Match M JOIN \\\n",
    "Team T ON T.team_api_id=M.home_team_api_id JOIN League L ON L.id=M.league_id \\\n",
    "where M.season='2008/2009' group by T.team_long_name \"\n",
    "                  \"UNION \" \n",
    "\"SELECT M.season as Season,L.name as League,T.team_long_name as Team_Name,sum(M.away_team_goal) as Goals_Scored from \\\n",
    "Match M JOIN \\\n",
    "Team T ON T.team_api_id=M.away_team_api_id JOIN League L ON L.id=M.league_id \\\n",
    "where M.season='2008/2009' group by T.team_long_name) group by Season, League, Team_Name ) \\\n",
    "where RANK<=5 order by League,RANK,Team_Name\").show()\n",
    "end = time.time()\n",
    "print(end - start)"
   ]
  }
 ],
 "metadata": {
  "kernelspec": {
   "display_name": "Python 3",
   "language": "python",
   "name": "python3"
  },
  "language_info": {
   "codemirror_mode": {
    "name": "ipython",
    "version": 3
   },
   "file_extension": ".py",
   "mimetype": "text/x-python",
   "name": "python",
   "nbconvert_exporter": "python",
   "pygments_lexer": "ipython3",
   "version": "3.6.3"
  }
 },
 "nbformat": 4,
 "nbformat_minor": 2
}
