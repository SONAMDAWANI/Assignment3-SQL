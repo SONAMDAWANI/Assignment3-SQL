{
 "cells": [
  {
   "cell_type": "code",
   "execution_count": null,
   "metadata": {},
   "outputs": [],
   "source": [
    "import sqlite3\n",
    "import pandas as pd\n",
    "\n",
    "con = sqlite3.connect(r'/Users/sonamdawani/Documents/BDP/Homework/Homework3/database.sqlite')\n",
    "#cursorObj = con.cursor()\n",
    "#cursorObj.execute(\"\")\n",
    "\n",
    "q1 = pd.read_sql_query(\"SELECT player_name as Player_Name,birthday as Birthday FROM Player where CAST((strftime('%Y', birthday)) AS INTEGER) BETWEEN 1987 and 1990 order by birthday;\", con)\n",
    "print(q1)\n",
    "\n",
    "\n",
    "\n",
    "#OR print by below\n",
    "#rows = cursorObj.fetchall()\n",
    " \n",
    "#for row in rows:\n",
    "#  print(row)"
   ]
  },
  {
   "cell_type": "code",
   "execution_count": null,
   "metadata": {},
   "outputs": [],
   "source": [
    "q2 = pd.read_sql_query(\"SELECT C.name as Country,L.name as League_Name, SUM(M.home_team_goal+M.away_team_goal) as Total_Goals_Scored FROM Country C JOIN League L ON L.country_id=C.id JOIN Match M ON M.league_id=L.id \\\n",
    "group by C.name,L.name order by Total_Goals_Scored desc; \", con)\n",
    "print(q2)"
   ]
  },
  {
   "cell_type": "code",
   "execution_count": null,
   "metadata": {},
   "outputs": [],
   "source": [
    "q3 = pd.read_sql_query(\"SELECT T.team_long_name as Team_Long_Name, (avg(TA.buildUpPlaySpeed)+ ifnull(avg(TA.buildUpPlayDribbling),0) +avg(TA.buildUpPlayPassing)+ avg(TA.chanceCreationPassing)+ avg(TA.chanceCreationCrossing)+ \\\n",
    "avg(TA.chanceCreationShooting)+ avg(TA.defencePressure)+ avg(TA.defenceAggression)+ avg(TA.defenceTeamWidth))/9 as Average_of_Attributes from Team_Attributes TA JOIN Team T ON TA.team_api_id=T.team_api_id group by T.team_api_id \\\n",
    "order by Average_of_Attributes desc;\", con)\n",
    "print(q3)"
   ]
  },
  {
   "cell_type": "code",
   "execution_count": null,
   "metadata": {},
   "outputs": [],
   "source": [
    "q4 = pd.read_sql_query(\"SELECT T.team_long_name as Team_Name, null as  Number_of_Players, (avg(TA.buildUpPlaySpeed)+ avg(TA.buildUpPlayDribbling) +avg(TA.buildUpPlayPassing)+ avg(TA.chanceCreationPassing)+ \\\n",
    "avg(TA.chanceCreationCrossing)+ avg(TA.chanceCreationShooting)+ avg(TA.defencePressure)+ avg(TA.defenceAggression)+ avg(TA.defenceTeamWidth))/9 as Player_Attribute_Average from \\\n",
    "Team_Attributes TA JOIN Team T ON TA.team_api_id=T.team_api_id group by T.team_api_id order by Player_Attribute_Average desc;\", con)\n",
    "print(q4)"
   ]
  },
  {
   "cell_type": "code",
   "execution_count": null,
   "metadata": {},
   "outputs": [],
   "source": [
    "q5 = pd.read_sql_query(\"SELECT strftime('%d/%m/%Y',IQ.date) as [Date (dd/mm/yy)],IQ.season as Season,L.name as League_Name,max(goal) as Goals_scored from (SELECT date,season,league_id,sum(home_team_goal+away_team_goal) \\\n",
    "as goal from Match group by season,league_id,date order by season,league_id,date,goal) IQ JOIN League L ON L.id=IQ.league_id group by IQ.season,IQ.league_id;\", con)\n",
    "print(q5)"
   ]
  },
  {
   "cell_type": "code",
   "execution_count": null,
   "metadata": {},
   "outputs": [],
   "source": [
    "q6 = pd.read_sql_query(\"select * from (select Season, League, row_number() OVER(Partition BY League ORDER BY SUM(Goals_Scored) DESC) as [RANK] , Team_Name, sum(Goals_Scored) as Goals_Scored from \\\n",
    "(SELECT M.season as Season,L.name as League,T.team_long_name as Team_Name,sum(M.home_team_goal) as Goals_Scored from \\\n",
    "Match M JOIN \\\n",
    "Team T ON T.team_api_id=M.home_team_api_id JOIN League L ON L.id=M.league_id \\\n",
    "where M.season='2008/2009' group by T.team_long_name \"\n",
    "                  \"UNION \" \n",
    "\"SELECT M.season as Season,L.name as League,T.team_long_name as Team_Name,sum(M.away_team_goal) as Goals_Scored from \\\n",
    "Match M JOIN \\\n",
    "Team T ON T.team_api_id=M.away_team_api_id JOIN League L ON L.id=M.league_id \\\n",
    "where M.season='2008/2009' group by T.team_long_name) group by Season, League, Team_Name ) \\\n",
    "where RANK<=5 order by League,RANK,Team_Name;\", con)\n",
    "print(q6)"
   ]
  }
 ],
 "metadata": {
  "kernelspec": {
   "display_name": "Python 3",
   "language": "python",
   "name": "python3"
  },
  "language_info": {
   "codemirror_mode": {
    "name": "ipython",
    "version": 3
   },
   "file_extension": ".py",
   "mimetype": "text/x-python",
   "name": "python",
   "nbconvert_exporter": "python",
   "pygments_lexer": "ipython3",
   "version": "3.7.3"
  }
 },
 "nbformat": 4,
 "nbformat_minor": 2
}
